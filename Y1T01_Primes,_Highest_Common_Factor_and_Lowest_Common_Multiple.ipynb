{
  "nbformat": 4,
  "nbformat_minor": 0,
  "metadata": {
    "colab": {
      "name": "Y1T01 - Primes, Highest Common Factor and Lowest Common Multiple.ipynb",
      "provenance": [],
      "collapsed_sections": [],
      "include_colab_link": true
    },
    "kernelspec": {
      "name": "python3",
      "display_name": "Python 3"
    }
  },
  "cells": [
    {
      "cell_type": "markdown",
      "metadata": {
        "id": "view-in-github",
        "colab_type": "text"
      },
      "source": [
        "<a href=\"https://colab.research.google.com/github/dunmanhigh/y1math/blob/master/Y1T01_Primes%2C_Highest_Common_Factor_and_Lowest_Common_Multiple.ipynb\" target=\"_parent\"><img src=\"https://colab.research.google.com/assets/colab-badge.svg\" alt=\"Open In Colab\"/></a>"
      ]
    },
    {
      "cell_type": "code",
      "metadata": {
        "id": "0UvwnTlW3lPI",
        "colab_type": "code",
        "outputId": "f5784e41-e8b3-4ec8-8abc-6f5933134190",
        "colab": {
          "base_uri": "https://localhost:8080/",
          "height": 34
        }
      },
      "source": [
        "# What are the factors of 18?\n",
        "#factor: An integer which when multiplied with another integer, results in the product 18. Hence when 18 is divided by this number, the dividend is an integer and there are no remainders.\n",
        "num = 18\n",
        "for i in range(1, 19):  \n",
        "  if num % i == 0:\n",
        "    print(i, end=' ')"
      ],
      "execution_count": 0,
      "outputs": [
        {
          "output_type": "stream",
          "text": [
            "1 2 3 6 9 18 "
          ],
          "name": "stdout"
        }
      ]
    },
    {
      "cell_type": "code",
      "metadata": {
        "id": "U_7M5xFP5zjT",
        "colab_type": "code",
        "outputId": "41910dcd-e8a7-412d-aa56-0321b50603e9",
        "colab": {
          "base_uri": "https://localhost:8080/",
          "height": 51
        }
      },
      "source": [
        "# Is num an integer?\n",
        "num = 123\n",
        "print(type(num))\n",
        "\n",
        "num = 3.21\n",
        "print(type(num))"
      ],
      "execution_count": 0,
      "outputs": [
        {
          "output_type": "stream",
          "text": [
            "<class 'int'>\n",
            "<class 'float'>\n"
          ],
          "name": "stdout"
        }
      ]
    },
    {
      "cell_type": "code",
      "metadata": {
        "id": "0Uqh8DTo4UVL",
        "colab_type": "code",
        "outputId": "a76133c2-e962-4719-8648-fdce866fa7e2",
        "colab": {
          "base_uri": "https://localhost:8080/",
          "height": 54
        }
      },
      "source": [
        "# What are the even numbers from 1 to num?\n",
        "num = 123\n",
        "for i in range(1, num+1):\n",
        "  if i % 2 == 0:\n",
        "    print(i, end=' ')"
      ],
      "execution_count": 0,
      "outputs": [
        {
          "output_type": "stream",
          "text": [
            "2 4 6 8 10 12 14 16 18 20 22 24 26 28 30 32 34 36 38 40 42 44 46 48 50 52 54 56 58 60 62 64 66 68 70 72 74 76 78 80 82 84 86 88 90 92 94 96 98 100 102 104 106 108 110 112 114 116 118 120 122 "
          ],
          "name": "stdout"
        }
      ]
    },
    {
      "cell_type": "code",
      "metadata": {
        "colab_type": "code",
        "outputId": "edd261e4-2821-4d26-c081-976810ada14c",
        "id": "IAsYn-2t44r-",
        "colab": {
          "base_uri": "https://localhost:8080/",
          "height": 54
        }
      },
      "source": [
        "# What are the odd numbers from 1 to num?\n",
        "num = 123\n",
        "for i in range(1, num+1):\n",
        "  if i % 2 == 1: # or != 0\n",
        "    print(i, end=' ')"
      ],
      "execution_count": 0,
      "outputs": [
        {
          "output_type": "stream",
          "text": [
            "1 3 5 7 9 11 13 15 17 19 21 23 25 27 29 31 33 35 37 39 41 43 45 47 49 51 53 55 57 59 61 63 65 67 69 71 73 75 77 79 81 83 85 87 89 91 93 95 97 99 101 103 105 107 109 111 113 115 117 119 121 123 "
          ],
          "name": "stdout"
        }
      ]
    },
    {
      "cell_type": "code",
      "metadata": {
        "id": "lG1z3HIW5Asj",
        "colab_type": "code",
        "outputId": "c0659fdc-4bff-4e53-fb57-9a525421206a",
        "colab": {
          "base_uri": "https://localhost:8080/",
          "height": 34
        }
      },
      "source": [
        "# Is num a prime number? A prime number is an integer with exactly 2 different factors, 1 and itself.\n",
        "# Consider implementing stop checking at i = int(num ** 0.5) for less looping.\n",
        "num = 61\n",
        "\n",
        "prime = True\n",
        "for i in range(2,num):\n",
        "  if num % i == 0:\n",
        "    prime = False\n",
        "  \n",
        "print(prime)"
      ],
      "execution_count": 0,
      "outputs": [
        {
          "output_type": "stream",
          "text": [
            "True\n"
          ],
          "name": "stdout"
        }
      ]
    },
    {
      "cell_type": "code",
      "metadata": {
        "id": "SY2wNRqn1ecw",
        "colab_type": "code",
        "outputId": "a74e7bb7-5a1e-4074-8f09-5047e1aecec1",
        "colab": {
          "base_uri": "https://localhost:8080/",
          "height": 34
        }
      },
      "source": [
        "# Is num a prime number? A prime number is an integer with exactly 2 different factors, 1 and itself.\n",
        "num = 61\n",
        "num_factors = 0\n",
        "for i in range(1,num+1):\n",
        "  if num % i == 0:\n",
        "    num_factors += 1\n",
        "if num_factors == 2:\n",
        "  print(num, \"is prime\")\n",
        "else:\n",
        "  print(num, \"is not prime\")"
      ],
      "execution_count": 0,
      "outputs": [
        {
          "output_type": "stream",
          "text": [
            "61 is prime\n"
          ],
          "name": "stdout"
        }
      ]
    },
    {
      "cell_type": "code",
      "metadata": {
        "id": "2ThEEwQy5JyR",
        "colab_type": "code",
        "outputId": "43937327-ff5a-4d9d-82c3-ed281c7d6872",
        "colab": {
          "base_uri": "https://localhost:8080/",
          "height": 34
        }
      },
      "source": [
        "# Is num a composite number? A composite number is an integer with more than 2 different factors / is a product of at least 2 primes.\n",
        "num = 61\n",
        "\n",
        "prime = True\n",
        "for i in range (2,num-1):\n",
        "  if num % i == 0:\n",
        "    prime = False\n",
        "  \n",
        "print(not(prime))\n"
      ],
      "execution_count": 0,
      "outputs": [
        {
          "output_type": "stream",
          "text": [
            "False\n"
          ],
          "name": "stdout"
        }
      ]
    },
    {
      "cell_type": "code",
      "metadata": {
        "id": "6s55gEZB2Ea0",
        "colab_type": "code",
        "outputId": "99ba32f0-c43d-4ab3-f10b-a2f9e53105c6",
        "colab": {
          "base_uri": "https://localhost:8080/",
          "height": 34
        }
      },
      "source": [
        "# Is num a composite number? A composite number is an integer with more than 2 different factors / is a product of at least 2 primes.\n",
        "num = 63\n",
        "num_factors = 0\n",
        "for i in range(1,num+1):\n",
        "  if num % i == 0:\n",
        "    num_factors += 1\n",
        "if num_factors > 2:\n",
        "  print(num, \"is composite\")\n",
        "else:\n",
        "  print(num, \"is not composite\")"
      ],
      "execution_count": 0,
      "outputs": [
        {
          "output_type": "stream",
          "text": [
            "63 is composite\n"
          ],
          "name": "stdout"
        }
      ]
    },
    {
      "cell_type": "code",
      "metadata": {
        "id": "q1-PiSXx6Dsp",
        "colab_type": "code",
        "outputId": "56eec3fd-8e33-4811-a852-86a10894206d",
        "colab": {
          "base_uri": "https://localhost:8080/",
          "height": 676
        }
      },
      "source": [
        "# Implement the Sieve of Erathosthenes for numbers between 1 to 100.\n",
        "nums = [i for i in range(1,101)]\n",
        "#print(nums)\n",
        "primes = []\n",
        "nums[0] = None \n",
        "for num in nums:\n",
        "  if num is not None:\n",
        "    primes.append(num)\n",
        "  for i in range(1,101):\n",
        "    if nums[i] is None:\n",
        "      pass\n",
        "    elif nums[i] % \n",
        "    \n",
        "  prime = temp[0]\n",
        "  primes.append(prime)\n",
        "  for t in temp:\n",
        "    if t % prime == 0:\n",
        "      temp.remove(t)\n",
        "  print(temp)\n",
        "print(primes)"
      ],
      "execution_count": 0,
      "outputs": [
        {
          "output_type": "stream",
          "text": [
            "[3, 5, 7, 9, 11, 13, 15, 17, 19, 21, 23, 25, 27, 29, 31, 33, 35, 37, 39, 41, 43, 45, 47, 49, 51, 53, 55, 57, 59, 61, 63, 65, 67, 69, 71, 73, 75, 77, 79, 81, 83, 85, 87, 89, 91, 93, 95, 97, 99]\n",
            "[5, 7, 11, 13, 17, 19, 23, 25, 29, 31, 35, 37, 41, 43, 47, 49, 53, 55, 59, 61, 65, 67, 71, 73, 77, 79, 83, 85, 89, 91, 95, 97]\n",
            "[7, 11, 13, 17, 19, 23, 29, 31, 37, 41, 43, 47, 49, 53, 59, 61, 67, 71, 73, 77, 79, 83, 89, 91, 97]\n",
            "[11, 13, 17, 19, 23, 29, 31, 37, 41, 43, 47, 53, 59, 61, 67, 71, 73, 79, 83, 89, 97]\n",
            "[13, 17, 19, 23, 29, 31, 37, 41, 43, 47, 53, 59, 61, 67, 71, 73, 79, 83, 89, 97]\n",
            "[17, 19, 23, 29, 31, 37, 41, 43, 47, 53, 59, 61, 67, 71, 73, 79, 83, 89, 97]\n",
            "[19, 23, 29, 31, 37, 41, 43, 47, 53, 59, 61, 67, 71, 73, 79, 83, 89, 97]\n",
            "[23, 29, 31, 37, 41, 43, 47, 53, 59, 61, 67, 71, 73, 79, 83, 89, 97]\n",
            "[29, 31, 37, 41, 43, 47, 53, 59, 61, 67, 71, 73, 79, 83, 89, 97]\n",
            "[31, 37, 41, 43, 47, 53, 59, 61, 67, 71, 73, 79, 83, 89, 97]\n",
            "[37, 41, 43, 47, 53, 59, 61, 67, 71, 73, 79, 83, 89, 97]\n",
            "[41, 43, 47, 53, 59, 61, 67, 71, 73, 79, 83, 89, 97]\n",
            "[43, 47, 53, 59, 61, 67, 71, 73, 79, 83, 89, 97]\n",
            "[47, 53, 59, 61, 67, 71, 73, 79, 83, 89, 97]\n",
            "[53, 59, 61, 67, 71, 73, 79, 83, 89, 97]\n",
            "[59, 61, 67, 71, 73, 79, 83, 89, 97]\n",
            "[61, 67, 71, 73, 79, 83, 89, 97]\n",
            "[67, 71, 73, 79, 83, 89, 97]\n",
            "[71, 73, 79, 83, 89, 97]\n",
            "[73, 79, 83, 89, 97]\n",
            "[79, 83, 89, 97]\n",
            "[83, 89, 97]\n",
            "[89, 97]\n",
            "[97]\n",
            "[]\n"
          ],
          "name": "stdout"
        },
        {
          "output_type": "error",
          "ename": "IndexError",
          "evalue": "ignored",
          "traceback": [
            "\u001b[0;31m---------------------------------------------------------------------------\u001b[0m",
            "\u001b[0;31mIndexError\u001b[0m                                Traceback (most recent call last)",
            "\u001b[0;32m<ipython-input-8-20b9a2dd4285>\u001b[0m in \u001b[0;36m<module>\u001b[0;34m()\u001b[0m\n\u001b[1;32m      6\u001b[0m \u001b[0mtemp\u001b[0m\u001b[0;34m.\u001b[0m\u001b[0mremove\u001b[0m\u001b[0;34m(\u001b[0m\u001b[0;36m1\u001b[0m\u001b[0;34m)\u001b[0m\u001b[0;34m\u001b[0m\u001b[0;34m\u001b[0m\u001b[0m\n\u001b[1;32m      7\u001b[0m \u001b[0;32mfor\u001b[0m \u001b[0mnum\u001b[0m \u001b[0;32min\u001b[0m \u001b[0mnums\u001b[0m\u001b[0;34m:\u001b[0m\u001b[0;34m\u001b[0m\u001b[0;34m\u001b[0m\u001b[0m\n\u001b[0;32m----> 8\u001b[0;31m   \u001b[0mprime\u001b[0m \u001b[0;34m=\u001b[0m \u001b[0mtemp\u001b[0m\u001b[0;34m[\u001b[0m\u001b[0;36m0\u001b[0m\u001b[0;34m]\u001b[0m\u001b[0;34m\u001b[0m\u001b[0;34m\u001b[0m\u001b[0m\n\u001b[0m\u001b[1;32m      9\u001b[0m   \u001b[0mprimes\u001b[0m\u001b[0;34m.\u001b[0m\u001b[0mappend\u001b[0m\u001b[0;34m(\u001b[0m\u001b[0mprime\u001b[0m\u001b[0;34m)\u001b[0m\u001b[0;34m\u001b[0m\u001b[0;34m\u001b[0m\u001b[0m\n\u001b[1;32m     10\u001b[0m   \u001b[0;32mfor\u001b[0m \u001b[0mt\u001b[0m \u001b[0;32min\u001b[0m \u001b[0mtemp\u001b[0m\u001b[0;34m:\u001b[0m\u001b[0;34m\u001b[0m\u001b[0;34m\u001b[0m\u001b[0m\n",
            "\u001b[0;31mIndexError\u001b[0m: list index out of range"
          ]
        }
      ]
    },
    {
      "cell_type": "code",
      "metadata": {
        "id": "DFBfeAF46OOg",
        "colab_type": "code",
        "colab": {}
      },
      "source": [
        "# How about from 20 to 567? \n"
      ],
      "execution_count": 0,
      "outputs": []
    },
    {
      "cell_type": "code",
      "metadata": {
        "id": "iv5rhAce6cvb",
        "colab_type": "code",
        "colab": {}
      },
      "source": [
        "# What is the prime number less than num?\n"
      ],
      "execution_count": 0,
      "outputs": []
    },
    {
      "cell_type": "code",
      "metadata": {
        "id": "hBd-g1it6yQq",
        "colab_type": "code",
        "colab": {}
      },
      "source": [
        "# What is the prime number greater than num?\n"
      ],
      "execution_count": 0,
      "outputs": []
    },
    {
      "cell_type": "code",
      "metadata": {
        "id": "U5sd9SVv64d0",
        "colab_type": "code",
        "colab": {}
      },
      "source": [
        "# What is the kth prime number?\n"
      ],
      "execution_count": 0,
      "outputs": []
    },
    {
      "cell_type": "code",
      "metadata": {
        "id": "dIUPzFRk7Mib",
        "colab_type": "code",
        "colab": {}
      },
      "source": [
        "# If a and b are integers such that a * b = 17, find the value of a + b.\n"
      ],
      "execution_count": 0,
      "outputs": []
    },
    {
      "cell_type": "code",
      "metadata": {
        "id": "q22B0M4F7bdJ",
        "colab_type": "code",
        "colab": {}
      },
      "source": [
        "# If a and b are integers such that a * b = 18, find the possible values of a + b.\n"
      ],
      "execution_count": 0,
      "outputs": []
    },
    {
      "cell_type": "code",
      "metadata": {
        "id": "C36RG2Cb7ky7",
        "colab_type": "code",
        "colab": {}
      },
      "source": [
        "# The process of expressing a number as a product of its prime factors is called prime factorisation.\n",
        "# Express 18 as a prime factorisation."
      ],
      "execution_count": 0,
      "outputs": []
    },
    {
      "cell_type": "code",
      "metadata": {
        "id": "QVWdMtbRTifw",
        "colab_type": "code",
        "colab": {}
      },
      "source": [
        "# In primary school, we have learnt about factors and common factors. To find the \n",
        "# Highest Common Factor (HCF) of two numbers, we can either 1) Listing Method \n",
        "# 2) Modify the algorithm to find common factors."
      ],
      "execution_count": 0,
      "outputs": []
    },
    {
      "cell_type": "code",
      "metadata": {
        "id": "HP8_zWafaP6g",
        "colab_type": "code",
        "colab": {}
      },
      "source": [
        "# What is the Highest Common Factor (HCF) of 18 and 30?"
      ],
      "execution_count": 0,
      "outputs": []
    },
    {
      "cell_type": "code",
      "metadata": {
        "id": "mO3Dr77ZT0M8",
        "colab_type": "code",
        "outputId": "32a4395f-de72-4c38-a52b-14020ea2fe3d",
        "colab": {
          "base_uri": "https://localhost:8080/",
          "height": 34
        }
      },
      "source": [
        "# Write a code to create a list containing factors of num.\n",
        "def computefactors(x):\n",
        "  output = []\n",
        "  for i in range(1, x+1):\n",
        "    if x % i == 0:\n",
        "      output = output + [i]\n",
        "\n",
        "  return output\n",
        "\n",
        "print(computefactors(18))"
      ],
      "execution_count": 0,
      "outputs": [
        {
          "output_type": "stream",
          "text": [
            "[1, 2, 3, 6, 9, 18]\n"
          ],
          "name": "stdout"
        }
      ]
    },
    {
      "cell_type": "code",
      "metadata": {
        "id": "CTiGh5XPUIf5",
        "colab_type": "code",
        "outputId": "ef8ba83c-acd0-4601-aefc-978c862f79e2",
        "colab": {
          "base_uri": "https://localhost:8080/",
          "height": 34
        }
      },
      "source": [
        "# Write a code to evaluate the HCF of num1 and num2, using the lists obtained from previous part.\n",
        "# Listing method\n",
        "\n",
        "# list of factors for 18 and 30\n",
        "lst1 = computefactors(18)\n",
        "lst2 = computefactors(30)\n",
        "\n",
        "# list of common factors\n",
        "lst3 = [value for value in lst1 if value in lst2]\n",
        "\n",
        "# Usage of Max to get Highest Common Factor\n",
        "print(\"The HCF of\", num1,\"and\", num2,\"is\", max(lst3))"
      ],
      "execution_count": 0,
      "outputs": [
        {
          "output_type": "stream",
          "text": [
            "The HCF of 18 and 30 is 6\n"
          ],
          "name": "stdout"
        }
      ]
    },
    {
      "cell_type": "code",
      "metadata": {
        "id": "csOllHXraN24",
        "colab_type": "code",
        "outputId": "53e14d6a-940c-4945-cc9b-03c32d5f9230",
        "colab": {
          "base_uri": "https://localhost:8080/",
          "height": 34
        }
      },
      "source": [
        "# Python program to find the HCF of two input number\n",
        "# Algorithm modified to check if running index is a factor of both\n",
        "\n",
        "# define a function\n",
        "def computeHCF(x, y):\n",
        "\n",
        "# choose the smaller number\n",
        "    if x > y:\n",
        "        smaller = y\n",
        "    else:\n",
        "        smaller = x\n",
        "    for i in range(1, smaller+1):\n",
        "        if((x % i == 0) and (y % i == 0)):\n",
        "            hcf = i\n",
        "            \n",
        "    return hcf\n",
        "\n",
        "num1 = 18 \n",
        "num2 = 30\n",
        "\n",
        "# take input from the user\n",
        "# num1 = int(input(\"Enter first number: \"))\n",
        "# num2 = int(input(\"Enter second number: \"))\n",
        "\n",
        "print(\"The HCF of\", num1,\"and\", num2,\"is\", computeHCF(num1, num2))"
      ],
      "execution_count": 0,
      "outputs": [
        {
          "output_type": "stream",
          "text": [
            "The HCF of 18 and 30 is 6\n"
          ],
          "name": "stdout"
        }
      ]
    },
    {
      "cell_type": "code",
      "metadata": {
        "id": "24qNsIyWazYY",
        "colab_type": "code",
        "colab": {}
      },
      "source": [
        "# Can you use both methods to obtain the HCF of three numbers or more?"
      ],
      "execution_count": 0,
      "outputs": []
    },
    {
      "cell_type": "code",
      "metadata": {
        "id": "iO4hJGn1a6AG",
        "colab_type": "code",
        "outputId": "858a3e78-b0cd-4ce5-c5bf-be4bc1ff73bb",
        "colab": {
          "base_uri": "https://localhost:8080/",
          "height": 34
        }
      },
      "source": [
        "num3 = 60\n",
        "num4 = 90\n",
        "num5 = 150\n",
        "\n",
        "# list of factors for 60, 90, 150\n",
        "lst4 = computefactors(60)\n",
        "lst5 = computefactors(90)\n",
        "lst6 = computefactors(150)\n",
        "\n",
        "# list of common factors between 60, 90\n",
        "lst7 = [value for value in lst4 if value in lst5]\n",
        "\n",
        "# list of common factors between 60, 90, 150\n",
        "lst8 = [value for value in lst7 if value in lst6]\n",
        "\n",
        "# Usage of Max to get Highest Common Factor\n",
        "print(\"The HCF of\", num3, \",\" , num4, \"and\", num5,\"is\", max(lst8))"
      ],
      "execution_count": 0,
      "outputs": [
        {
          "output_type": "stream",
          "text": [
            "The HCF of 60 , 90 and 150 is 30\n"
          ],
          "name": "stdout"
        }
      ]
    },
    {
      "cell_type": "code",
      "metadata": {
        "id": "KWeK6gsKa6JM",
        "colab_type": "code",
        "outputId": "b00d681a-fb74-4fe3-c8a7-aeb739a7117f",
        "colab": {
          "base_uri": "https://localhost:8080/",
          "height": 34
        }
      },
      "source": [
        "num3 = 60\n",
        "num4 = 90\n",
        "num5 = 150\n",
        "\n",
        "print(\"The HCF of\", num3, \",\" , num4, \"and\", num5,\"is\", computeHCF(computeHCF(num3, num4),num5))"
      ],
      "execution_count": 0,
      "outputs": [
        {
          "output_type": "stream",
          "text": [
            "The HCF of 60 , 90 and 150 is 30\n"
          ],
          "name": "stdout"
        }
      ]
    },
    {
      "cell_type": "code",
      "metadata": {
        "id": "iA5hmRuSapDI",
        "colab_type": "code",
        "colab": {}
      },
      "source": [
        "# What about the Lowest Common Multiple (LCM)?"
      ],
      "execution_count": 0,
      "outputs": []
    },
    {
      "cell_type": "code",
      "metadata": {
        "id": "sLRwWZHocFp7",
        "colab_type": "code",
        "colab": {}
      },
      "source": [
        "# We can use prime factorization \n",
        "# Step 1: Obtain the prime factorisation of each number\n",
        "# Step 2: Identify the common prime factors\n",
        "# Step 3: The LCM of the the two numbers is the product of the common prime factors \n",
        "#         and all the other prime factors"
      ],
      "execution_count": 0,
      "outputs": []
    },
    {
      "cell_type": "code",
      "metadata": {
        "id": "lOcFLtYMczyc",
        "colab_type": "code",
        "colab": {}
      },
      "source": [
        "# Code using the above methodology"
      ],
      "execution_count": 0,
      "outputs": []
    },
    {
      "cell_type": "code",
      "metadata": {
        "id": "OQDJnPj4d1oZ",
        "colab_type": "code",
        "colab": {}
      },
      "source": [
        "# Code Missing"
      ],
      "execution_count": 0,
      "outputs": []
    },
    {
      "cell_type": "code",
      "metadata": {
        "id": "hQSOxyYOc3iq",
        "colab_type": "code",
        "outputId": "8c50f473-f99e-4847-c265-7493fe323564",
        "colab": {
          "base_uri": "https://localhost:8080/",
          "height": 34
        }
      },
      "source": [
        "# Actually, product of two numbers num1 and num2 is equal to the product of their HCF and their LCM\n",
        "\n",
        "num1 = 18\n",
        "num2 = 30\n",
        "\n",
        "print(\"The LCM of\", num1,\"and\", num2,\"is\", int(num1*num2/computeHCF(num1, num2)))"
      ],
      "execution_count": 0,
      "outputs": [
        {
          "output_type": "stream",
          "text": [
            "The LCM of 18 and 30 is 90\n"
          ],
          "name": "stdout"
        }
      ]
    },
    {
      "cell_type": "code",
      "metadata": {
        "id": "Z8rNcrtjdih9",
        "colab_type": "code",
        "colab": {}
      },
      "source": [
        "# (Difficult Question) How to obtain the LCM of three numbers?"
      ],
      "execution_count": 0,
      "outputs": []
    },
    {
      "cell_type": "code",
      "metadata": {
        "id": "0yKbHCATdsQ5",
        "colab_type": "code",
        "outputId": "50666375-f446-4198-90cf-d8c417ba86ad",
        "colab": {
          "base_uri": "https://localhost:8080/",
          "height": 67
        }
      },
      "source": [
        "# Craft your question and code your solution ~\n",
        "# Contributed by V Lew    Level of difficulty (year 1s) : Basic to Intermediate\n",
        "#\n",
        "# Objective - \n",
        "# Allow student to use Year 1 math knowledge to find the general term.\n",
        "# Then learn to use the for loop structure and variable i, and print() syntax, \n",
        "# and basic math expressions including add/subtract(+/-), multiply(*)  \n",
        "# and power (exponentiation **) to generate the required number patterns.\n",
        "# Anticipate students to do trial and error approach in forming the general term.\n",
        "#\n",
        "# The first 7 terms of a number sequence was generated : 3 7 11 15 19 23 27\t\n",
        "# Write a python code using a for loop to print out the above code.\n",
        "# Repeat the above for another two more number sequences below\n",
        "# (a)  2 8 18 32 50 72 98\n",
        "# (b)  0 3 8 15\t24 35\t48\n",
        "for i in range(7):  \n",
        "    num = 4 * (i+1) - 1\n",
        "    print(num,end=' ')\n",
        "#\n",
        "print(\"\")\n",
        "for i in range(7):  \n",
        "    num = 2 * (i+1)**2\n",
        "    print(num,end=' ')\n",
        "#    \n",
        "print(\"\")\n",
        "for i in range(7):  \n",
        "    num = (i+1)**2 - 1\n",
        "    print(num,end=' ')"
      ],
      "execution_count": 0,
      "outputs": [
        {
          "output_type": "stream",
          "text": [
            "3 7 11 15 19 23 27 \n",
            "2 8 18 32 50 72 98 \n",
            "0 3 8 15 24 35 48 "
          ],
          "name": "stdout"
        }
      ]
    },
    {
      "cell_type": "code",
      "metadata": {
        "id": "bpPxnW_PCgib",
        "colab_type": "code",
        "colab": {}
      },
      "source": [
        "# Craft your question and code your solution ~\n",
        "# Contributed by V Lew.  Level of difficulty (year 1s) : Basic to Intermediate\n",
        "#\n",
        "# Objective-\n",
        "# Allow student to apply rules to search strings using string functions\n",
        "# and classify and compute the significant figure of a given number.\n",
        "# Expect students to use if-then-else and for or while loops to search\n",
        "# a string, and converting numbers to string and vice versa.\n",
        "#\n",
        "# Write the python code to state the number of significant figures of \n",
        "# a given number which is a whole number or contains decimal numbers.\n",
        "# 192, 83.76, 3, 4.5\n",
        "# 506, 1.099, 3.0021, 70.8001\n",
        "# 0.10, 0.500, 41.0320, 6.090\n",
        "# 0.021, 0.603, 0.00173, 0.01090\n",
        "# 3800, 25000, 103000\n",
        "#\n",
        "# As an extension, write python code that generate questions,\n",
        "# ie. numbers and query students about the number of signficant\n",
        "# figures of the given number, and give feedback to student's answer.\n",
        "#\n",
        "# Code answer to be supplied by 12 Oct\n",
        "#"
      ],
      "execution_count": 0,
      "outputs": []
    },
    {
      "cell_type": "code",
      "metadata": {
        "id": "P-oad6MpsbOI",
        "colab_type": "code",
        "colab": {}
      },
      "source": [
        "# Craft your question and code your solution ~\n",
        "# Contributed by V Lew. Level of difficulty (year 1s) : Basic\n",
        "#\n",
        "# Objective :\n",
        "# Give student opportunity to examine their own understanding of hire purchase\n",
        "# calculations and use the basic math functions and learn to use variables\n",
        "# to create formulae (algebraic representation) to do the mundane calculations\n",
        "# automatically.\n",
        "#\n",
        "# Write the python code that calculate the monthly instalments and total \n",
        "# amount (including interest) paid for a hire purchase item, that include\n",
        "# inputs cost c (in SGD$), downpayment d(in percentage), interest rate r(in percentage) \n",
        "# and repayment period t(in years)\n",
        "# output monthly instalments p (in SGD$), total amount, M (in SGD$)\n",
        "# eg input c = 800, d= 20, r = 5, t = 2.  Output p and M\n",
        "# \n",
        "# Extend the problem to write python code to accept inputs from user and then\n",
        "# assist user to calcute the outputs p and M."
      ],
      "execution_count": 0,
      "outputs": []
    },
    {
      "cell_type": "code",
      "metadata": {
        "id": "Vt1maxFlvyX9",
        "colab_type": "code",
        "colab": {}
      },
      "source": [
        "# Craft your question and code your solution ~\n",
        "# # Contributed by V Lew. Level of difficulty (year 1s) : Intermediate\n",
        "#\n",
        "# Write python turtle graphics code to draw triangle, quadrilaterals pentagon\n",
        "# and hexagons and any patterns. \n",
        "# \n",
        "# May be hard to execute as we need to pre install some python turtle graphics\n",
        "# packages and test if it works in colab.\n",
        "# https://docs.python.org/3.3/library/turtle.html?highlight=turtle\n",
        "# Researched into this and found it too complicated for me to load and run the  \n",
        "#\n",
        "#"
      ],
      "execution_count": 0,
      "outputs": []
    },
    {
      "cell_type": "code",
      "metadata": {
        "id": "rD_xEY8Qv0ki",
        "colab_type": "code",
        "colab": {}
      },
      "source": [
        "# Craft your question and code your solution ~"
      ],
      "execution_count": 0,
      "outputs": []
    },
    {
      "cell_type": "code",
      "metadata": {
        "id": "vrBSNSvw7iin",
        "colab_type": "code",
        "colab": {}
      },
      "source": [
        "# Craft your question and code your solution ~"
      ],
      "execution_count": 0,
      "outputs": []
    }
  ]
}