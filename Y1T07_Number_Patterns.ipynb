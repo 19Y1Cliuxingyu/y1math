{
  "nbformat": 4,
  "nbformat_minor": 0,
  "metadata": {
    "colab": {
      "name": "Y1T07 - Number Patterns.ipynb",
      "provenance": [],
      "include_colab_link": true
    },
    "kernelspec": {
      "name": "python3",
      "display_name": "Python 3"
    }
  },
  "cells": [
    {
      "cell_type": "markdown",
      "metadata": {
        "id": "view-in-github",
        "colab_type": "text"
      },
      "source": [
        "<a href=\"https://colab.research.google.com/github/dunmanhigh/y1math/blob/master/Y1T07_Number_Patterns.ipynb\" target=\"_parent\"><img src=\"https://colab.research.google.com/assets/colab-badge.svg\" alt=\"Open In Colab\"/></a>"
      ]
    },
    {
      "cell_type": "code",
      "metadata": {
        "id": "X6yowTy5PtFn",
        "colab_type": "code",
        "colab": {
          "base_uri": "https://localhost:8080/",
          "height": 34
        },
        "outputId": "3f96d803-059d-4824-d14c-31f4c9efd43f"
      },
      "source": [
        "# Generate a positive even number patten from 1 to 50\n",
        "\n",
        "START = 1\n",
        "END = 50\n",
        "\n",
        "for i in range(START+1, END+1, 2):\n",
        "  print(i, end=' ')"
      ],
      "execution_count": 1,
      "outputs": [
        {
          "output_type": "stream",
          "text": [
            "2 4 6 8 10 12 14 16 18 20 22 24 26 28 30 32 34 36 38 40 42 44 46 48 50 "
          ],
          "name": "stdout"
        }
      ]
    },
    {
      "cell_type": "code",
      "metadata": {
        "id": "b2beymbxQ8EV",
        "colab_type": "code",
        "colab": {
          "base_uri": "https://localhost:8080/",
          "height": 34
        },
        "outputId": "cf7c7be2-d797-4460-ff79-26051dcf1dae"
      },
      "source": [
        "# Generate a positive odd number patten from 1 to 50\n",
        "\n",
        "START = 1\n",
        "END = 50\n",
        "\n",
        "for i in range(START, END+1, 2):\n",
        "  print(i, end=' ')"
      ],
      "execution_count": 2,
      "outputs": [
        {
          "output_type": "stream",
          "text": [
            "1 3 5 7 9 11 13 15 17 19 21 23 25 27 29 31 33 35 37 39 41 43 45 47 49 "
          ],
          "name": "stdout"
        }
      ]
    },
    {
      "cell_type": "code",
      "metadata": {
        "id": "px-bNSs6SmSv",
        "colab_type": "code",
        "colab": {
          "base_uri": "https://localhost:8080/",
          "height": 34
        },
        "outputId": "9864deaf-b9e2-4150-9169-bc81b560b136"
      },
      "source": [
        "# Generate multiples of 3 from 1 to 50\n",
        "\n",
        "START = 1\n",
        "END = 50\n",
        "num = 3\n",
        "\n",
        "for i in range(START, END+1):\n",
        "  if i % num == 0:\n",
        "    print(i, end=' ')"
      ],
      "execution_count": 6,
      "outputs": [
        {
          "output_type": "stream",
          "text": [
            "3 6 9 12 15 18 21 24 27 30 33 36 39 42 45 48 "
          ],
          "name": "stdout"
        }
      ]
    },
    {
      "cell_type": "code",
      "metadata": {
        "id": "MlfbOSwUTFjZ",
        "colab_type": "code",
        "colab": {
          "base_uri": "https://localhost:8080/",
          "height": 34
        },
        "outputId": "102e1684-ae9b-4131-8e98-1c73ca826040"
      },
      "source": [
        "# Generate powers of 2 from 1 to 10\n",
        "\n",
        "START = 1\n",
        "END = 10\n",
        "num = 2\n",
        "\n",
        "for i in range(START, END+1):\n",
        "    print(num ** i, end=' ')\n"
      ],
      "execution_count": 10,
      "outputs": [
        {
          "output_type": "stream",
          "text": [
            "2 4 8 16 32 64 128 256 512 1024 "
          ],
          "name": "stdout"
        }
      ]
    },
    {
      "cell_type": "code",
      "metadata": {
        "id": "aGKyxEKnWAWK",
        "colab_type": "code",
        "colab": {
          "base_uri": "https://localhost:8080/",
          "height": 34
        },
        "outputId": "291dd1fe-7580-42f1-c077-b3f5122b5ee1"
      },
      "source": [
        "# Generate oscillating pattern 1, -1, 1, -1, 1, -1, ... k times\n",
        "\n",
        "k = 10\n",
        "\n",
        "for i in range(k):\n",
        "  if i % 2 == 0:\n",
        "    print(1, end=' ')\n",
        "  else:\n",
        "    print(-1, end = ' ')"
      ],
      "execution_count": 17,
      "outputs": [
        {
          "output_type": "stream",
          "text": [
            "1 -1 1 -1 1 -1 1 -1 1 -1 "
          ],
          "name": "stdout"
        }
      ]
    },
    {
      "cell_type": "code",
      "metadata": {
        "id": "YsMHlMZuWeL-",
        "colab_type": "code",
        "colab": {
          "base_uri": "https://localhost:8080/",
          "height": 34
        },
        "outputId": "7d9117cd-fdf7-45e4-cd5d-90db1700a5c9"
      },
      "source": [
        "# Generate oscillating pattern 1, -1, 2, -2, 3, -3, ... k times\n",
        "\n",
        "k = 10\n",
        "\n",
        "for i in range(1, k+1):\n",
        "  if i % 2 == 0:\n",
        "    print(-i+1, end=' ')\n",
        "  else:\n",
        "    print(i, end = ' ')"
      ],
      "execution_count": 20,
      "outputs": [
        {
          "output_type": "stream",
          "text": [
            "1 -1 3 -3 5 -5 7 -7 9 -9 "
          ],
          "name": "stdout"
        }
      ]
    },
    {
      "cell_type": "code",
      "metadata": {
        "id": "gSWBXALuXMZH",
        "colab_type": "code",
        "colab": {
          "base_uri": "https://localhost:8080/",
          "height": 34
        },
        "outputId": "3dd4e89a-c911-4a53-c78b-22267f83d960"
      },
      "source": [
        "# Generate the first k Fibonacci numbers\n",
        "\n",
        "k = 10\n",
        "\n",
        "fprev = 1\n",
        "fnext = 1\n",
        "print(fprev, end=' ')\n",
        "print(fnext, end=' ')\n",
        "for i in range(k-2): # first 2 terms already printed before loop\n",
        "  fib = fprev + fnext \n",
        "  print(fib, end=' ')\n",
        "  fprev = fnext\n",
        "  fnext = fib   "
      ],
      "execution_count": 23,
      "outputs": [
        {
          "output_type": "stream",
          "text": [
            "1 1 2 3 5 8 13 21 34 55 "
          ],
          "name": "stdout"
        }
      ]
    },
    {
      "cell_type": "code",
      "metadata": {
        "id": "0zads7o1aPmU",
        "colab_type": "code",
        "colab": {}
      },
      "source": [
        "# Find the nth Fibonacci number\n",
        "\n"
      ],
      "execution_count": 0,
      "outputs": []
    },
    {
      "cell_type": "code",
      "metadata": {
        "id": "1fH4pacdTrXi",
        "colab_type": "code",
        "colab": {
          "base_uri": "https://localhost:8080/",
          "height": 136
        },
        "outputId": "d7e8298b-1b16-4428-f013-9468ee5edc9a"
      },
      "source": [
        "# Find the difference between the terms\n",
        "\n",
        "A = [1, 4, 7, 10, 13, 16, 19] # constant difference\n",
        "print(A[1] - A[0])\n",
        "for i in range(len(A)-1):\n",
        "  print(A[i+1] - A[i])"
      ],
      "execution_count": 12,
      "outputs": [
        {
          "output_type": "stream",
          "text": [
            "3\n",
            "3\n",
            "3\n",
            "3\n",
            "3\n",
            "3\n",
            "3\n"
          ],
          "name": "stdout"
        }
      ]
    },
    {
      "cell_type": "code",
      "metadata": {
        "id": "6sRrHbS7UYIr",
        "colab_type": "code",
        "colab": {
          "base_uri": "https://localhost:8080/",
          "height": 51
        },
        "outputId": "a208db90-d19e-4742-c454-6bb7aff6702a"
      },
      "source": [
        "# What is the kth term?\n",
        "\n",
        "k = 10\n",
        "\n",
        "A = [1, 4, 7, 10, 13, 16, 19] # constant difference\n",
        "diff = A[1] - A[0]\n",
        "result = 1\n",
        "for i in range(k):\n",
        "  result += diff\n",
        "print(result)\n",
        "\n",
        "# check\n",
        "num = A[0]\n",
        "for i in range(k):\n",
        "  print(num + diff, end=' ')\n",
        "  num += diff"
      ],
      "execution_count": 16,
      "outputs": [
        {
          "output_type": "stream",
          "text": [
            "31\n",
            "4 7 10 13 16 19 22 25 28 31 "
          ],
          "name": "stdout"
        }
      ]
    },
    {
      "cell_type": "code",
      "metadata": {
        "id": "jf-KUBFxZ6hB",
        "colab_type": "code",
        "colab": {}
      },
      "source": [
        "# Generate the Pascal triangle\n",
        "\n"
      ],
      "execution_count": 0,
      "outputs": []
    },
    {
      "cell_type": "code",
      "metadata": {
        "id": "BjltKOkOaW_b",
        "colab_type": "code",
        "colab": {
          "base_uri": "https://localhost:8080/",
          "height": 51
        },
        "outputId": "3871cb10-c2bb-49a6-9c01-c91ff0cb010e"
      },
      "source": [
        "# Find the ASCII value of 'A' to 'Z'\n",
        "\n",
        "for i in range(26):\n",
        "  print(ord('A') + i, end=' ')\n",
        "\n",
        "# check\n",
        "print()\n",
        "print(ord('Z'))"
      ],
      "execution_count": 26,
      "outputs": [
        {
          "output_type": "stream",
          "text": [
            "65 66 67 68 69 70 71 72 73 74 75 76 77 78 79 80 81 82 83 84 85 86 87 88 89 90 \n",
            "90\n"
          ],
          "name": "stdout"
        }
      ]
    },
    {
      "cell_type": "code",
      "metadata": {
        "id": "3R1056SRa9Mi",
        "colab_type": "code",
        "colab": {
          "base_uri": "https://localhost:8080/",
          "height": 34
        },
        "outputId": "45c808c1-25c5-4bb4-c2cb-f2b0e76b0e79"
      },
      "source": [
        "# Find the ASCII character of a number\n",
        "\n",
        "num = 65\n",
        "print(chr(num))"
      ],
      "execution_count": 27,
      "outputs": [
        {
          "output_type": "stream",
          "text": [
            "A\n"
          ],
          "name": "stdout"
        }
      ]
    },
    {
      "cell_type": "code",
      "metadata": {
        "id": "-xPvp_I5bouK",
        "colab_type": "code",
        "colab": {
          "base_uri": "https://localhost:8080/",
          "height": 34
        },
        "outputId": "03e34258-0d73-43c4-b10c-0342a93580cd"
      },
      "source": [
        "# Find the difference between a lowercase and its corresponding uppercase ASCII letter\n",
        "\n",
        "print(ord('a') - ord('A'))"
      ],
      "execution_count": 29,
      "outputs": [
        {
          "output_type": "stream",
          "text": [
            "32\n"
          ],
          "name": "stdout"
        }
      ]
    },
    {
      "cell_type": "code",
      "metadata": {
        "id": "UCu7xxjFbVJR",
        "colab_type": "code",
        "colab": {
          "base_uri": "https://localhost:8080/",
          "height": 88
        },
        "outputId": "1325f8b0-67bf-422f-d79c-1b2f1e8780e5"
      },
      "source": [
        "# Encrypt the message with ASCII\n",
        "\n",
        "message = 'The quick yellow fox jumps over the lazy dog.'\n",
        "message = list(message)\n",
        "print(message)\n",
        "\n",
        "cipher = []\n",
        "for char in message:\n",
        "  cipher.append(ord(char))\n",
        "print(cipher)\n",
        "\n",
        "for num in cipher:\n",
        "  print(num, end='')"
      ],
      "execution_count": 36,
      "outputs": [
        {
          "output_type": "stream",
          "text": [
            "['T', 'h', 'e', ' ', 'q', 'u', 'i', 'c', 'k', ' ', 'y', 'e', 'l', 'l', 'o', 'w', ' ', 'f', 'o', 'x', ' ', 'j', 'u', 'm', 'p', 's', ' ', 'o', 'v', 'e', 'r', ' ', 't', 'h', 'e', ' ', 'l', 'a', 'z', 'y', ' ', 'd', 'o', 'g', '.']\n",
            "[84, 104, 101, 32, 113, 117, 105, 99, 107, 32, 121, 101, 108, 108, 111, 119, 32, 102, 111, 120, 32, 106, 117, 109, 112, 115, 32, 111, 118, 101, 114, 32, 116, 104, 101, 32, 108, 97, 122, 121, 32, 100, 111, 103, 46]\n",
            "841041013211311710599107321211011081081111193210211112032106117109112115321111181011143211610410132108971221213210011110346"
          ],
          "name": "stdout"
        }
      ]
    },
    {
      "cell_type": "code",
      "metadata": {
        "id": "6U4sw6qtdQhU",
        "colab_type": "code",
        "colab": {
          "base_uri": "https://localhost:8080/",
          "height": 34
        },
        "outputId": "0c4aaffc-71da-435e-d2de-9777fe8c111f"
      },
      "source": [
        "# Encrypt message with shift +2 characters\n",
        "\n",
        "message = 'The quick yellow fox jumps over the lazy dog.'\n",
        "\n",
        "cipher = ''\n",
        "for char in message:\n",
        "  cipher += chr(ord(char) + 2)\n",
        "print(cipher)\n"
      ],
      "execution_count": 39,
      "outputs": [
        {
          "output_type": "stream",
          "text": [
            "Vjg\"swkem\"{gnnqy\"hqz\"lworu\"qxgt\"vjg\"nc|{\"fqi0\n"
          ],
          "name": "stdout"
        }
      ]
    }
  ]
}